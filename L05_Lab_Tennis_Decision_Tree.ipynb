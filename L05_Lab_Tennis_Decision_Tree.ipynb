{
 "cells": [
  {
   "cell_type": "markdown",
   "metadata": {},
   "source": [
    "# Should We Play Tennis?"
   ]
  },
  {
   "cell_type": "code",
   "execution_count": 1,
   "metadata": {},
   "outputs": [],
   "source": [
    "# conda install -c anaconda python-graphviz"
   ]
  },
  {
   "cell_type": "code",
   "execution_count": 2,
   "metadata": {},
   "outputs": [],
   "source": [
    "# conda install -c anaconda pydot"
   ]
  },
  {
   "cell_type": "code",
   "execution_count": 3,
   "metadata": {},
   "outputs": [],
   "source": [
    "import pandas as pd\n",
    "import os\n",
    "\n",
    "data_file = \"https://library.startlearninglabs.uw.edu/DATASCI420/Datasets/Tennis.csv\"\n",
    "data = pd.read_csv(data_file)\n",
    "(nrows, ncols) = data.shape"
   ]
  },
  {
   "cell_type": "code",
   "execution_count": 4,
   "metadata": {},
   "outputs": [
    {
     "name": "stdout",
     "output_type": "stream",
     "text": [
      "    outlook  temp humidity   windy play\n",
      "0     sunny   hot     high  strong   no\n",
      "1     sunny   hot     high    weak   no\n",
      "2  overcast   hot     high    weak  yes\n",
      "3      rain  mild     high    weak  yes\n",
      "4      rain  cool   normal    weak  yes\n"
     ]
    }
   ],
   "source": [
    "# Tools for viewing the data\n",
    "#print(data.info())          # gives the structure of the data (rows/cols)\n",
    "print(data.head())          # shows the top five data entries\n",
    "#print(data.describe())      # gives the statistics on the data in the DF"
   ]
  },
  {
   "cell_type": "markdown",
   "metadata": {},
   "source": [
    "### Convert string features to integers"
   ]
  },
  {
   "cell_type": "code",
   "execution_count": 5,
   "metadata": {},
   "outputs": [
    {
     "name": "stdout",
     "output_type": "stream",
     "text": [
      "{'rain': 0, 'sunny': 1, 'overcast': 2}\n",
      "{'mild': 0, 'cool': 1, 'hot': 2}\n",
      "{'high': 0, 'normal': 1}\n",
      "{'weak': 0, 'strong': 1}\n",
      "{'yes': 0, 'no': 1}\n",
      "{'outlook': {'rain': 0, 'sunny': 1, 'overcast': 2}, 'temp': {'mild': 0, 'cool': 1, 'hot': 2}, 'humidity': {'high': 0, 'normal': 1}, 'windy': {'weak': 0, 'strong': 1}, 'play': {'yes': 0, 'no': 1}}\n",
      "  outlook temp humidity windy play\n",
      "0       1    2        0     1    1\n",
      "1       1    2        0     0    1\n",
      "2       2    2        0     0    0\n",
      "3       0    0        0     0    0\n",
      "4       0    1        1     0    0\n"
     ]
    }
   ],
   "source": [
    "colnames = list(data.columns.values)\n",
    "string_encoding = {}\n",
    "data_encoded = data.copy()\n",
    "for i in range(ncols):\n",
    "    levels = list(set(data.iloc[:, i]))\n",
    "    num_levels = len(levels)\n",
    "    string_encoding_i = dict(zip(levels, range(num_levels)))\n",
    "    print(string_encoding_i)\n",
    "    string_encoding[colnames[i]] = string_encoding_i\n",
    "#     print(string_encoding_i)\n",
    "    for j in range(nrows):\n",
    "        data_encoded.iloc[j, i] = string_encoding_i[data.iloc[j, i]]\n",
    "\n",
    "print(string_encoding)\n",
    "print(data_encoded.head())"
   ]
  },
  {
   "cell_type": "markdown",
   "metadata": {},
   "source": [
    "### One Hot Encoding Categorial Variables"
   ]
  },
  {
   "cell_type": "code",
   "execution_count": 6,
   "metadata": {},
   "outputs": [],
   "source": [
    "from sklearn import preprocessing\n",
    "enc = preprocessing.OneHotEncoder()\n",
    "enc.fit(data_encoded.iloc[:,0:4])\n",
    "data_onehotencoded = enc.transform(data_encoded.iloc[:,0:4])\n",
    "feature_names = [\"outlook_rainy\", \"outlook_overcast\", \"outlook_sunny\", \\\n",
    "                 \"temp_mild\", \"temp_hot\", \"temp_cool\", \\\n",
    "                 \"humidity_normal\", \"humidity_high\", \\\n",
    "                 \"windy_false\", \"windy_true\"]\n"
   ]
  },
  {
   "cell_type": "markdown",
   "metadata": {},
   "source": [
    "### Assign the X (feature) and Y (class) Arrays and Split into Train and Test Data"
   ]
  },
  {
   "cell_type": "code",
   "execution_count": 7,
   "metadata": {},
   "outputs": [
    {
     "name": "stdout",
     "output_type": "stream",
     "text": [
      "0     1\n",
      "12    0\n",
      "Name: play, dtype: int32\n"
     ]
    }
   ],
   "source": [
    "from sklearn import tree\n",
    "import numpy as np\n",
    "from sklearn.model_selection import train_test_split \n",
    "\n",
    "# Ensure the decision tree is deterministic\n",
    "np.random.seed(101)\n",
    "\n",
    "X = data_onehotencoded.toarray()\n",
    "Y = data_encoded.iloc[:,-1]\n",
    "Y=Y.astype('int')\n",
    "X_train, X_test, y_train, y_test = train_test_split(X, Y, test_size = 0.1, random_state = 99)\n",
    "print(y_test)"
   ]
  },
  {
   "cell_type": "code",
   "execution_count": 25,
   "metadata": {},
   "outputs": [
    {
     "data": {
      "text/plain": [
       "dtype('int32')"
      ]
     },
     "execution_count": 25,
     "metadata": {},
     "output_type": "execute_result"
    }
   ],
   "source": [
    "Y.dtypes"
   ]
  },
  {
   "cell_type": "code",
   "execution_count": 8,
   "metadata": {},
   "outputs": [
    {
     "data": {
      "text/plain": [
       "(array([[0., 1., 0., 1., 0., 0., 1., 0., 1., 0.],\n",
       "        [1., 0., 0., 1., 0., 0., 1., 0., 0., 1.],\n",
       "        [0., 0., 1., 0., 1., 0., 0., 1., 0., 1.],\n",
       "        [1., 0., 0., 0., 1., 0., 0., 1., 0., 1.],\n",
       "        [1., 0., 0., 0., 1., 0., 0., 1., 1., 0.],\n",
       "        [0., 0., 1., 0., 0., 1., 1., 0., 1., 0.],\n",
       "        [0., 1., 0., 1., 0., 0., 0., 1., 0., 1.],\n",
       "        [0., 0., 1., 1., 0., 0., 1., 0., 0., 1.],\n",
       "        [0., 1., 0., 0., 1., 0., 0., 1., 1., 0.],\n",
       "        [1., 0., 0., 1., 0., 0., 0., 1., 1., 0.],\n",
       "        [1., 0., 0., 1., 0., 0., 1., 0., 1., 0.],\n",
       "        [0., 1., 0., 0., 0., 1., 1., 0., 1., 0.]]),\n",
       " 7     1\n",
       " 13    1\n",
       " 6     0\n",
       " 5     1\n",
       " 4     0\n",
       " 2     0\n",
       " 10    0\n",
       " 11    0\n",
       " 8     0\n",
       " 9     0\n",
       " 3     0\n",
       " 1     1\n",
       " Name: play, dtype: int32)"
      ]
     },
     "execution_count": 8,
     "metadata": {},
     "output_type": "execute_result"
    }
   ],
   "source": [
    "X_train, y_train"
   ]
  },
  {
   "cell_type": "markdown",
   "metadata": {},
   "source": [
    "### Generate and Evaluate the Model"
   ]
  },
  {
   "cell_type": "code",
   "execution_count": 26,
   "metadata": {},
   "outputs": [],
   "source": [
    "# Generate the Classification model\n",
    "from sklearn.tree import DecisionTreeClassifier\n",
    "dec_tree_ent = DecisionTreeClassifier(criterion='entropy', max_depth=3)\n",
    "model = dec_tree_ent.fit(X_train,y_train)\n",
    "\n",
    "# Validate the model\n",
    "y_predict_ent = model.predict(X_test)"
   ]
  },
  {
   "cell_type": "code",
   "execution_count": 10,
   "metadata": {},
   "outputs": [
    {
     "name": "stdout",
     "output_type": "stream",
     "text": [
      "Accuracy is : 100.0%\n"
     ]
    }
   ],
   "source": [
    "# Generate the accuracy score\n",
    "from sklearn.metrics import accuracy_score\n",
    "\n",
    "#def measure_performance(X_train, y_train)\n",
    "acc_ent = accuracy_score(y_test, y_predict_ent) * 100\n",
    "print(\"Accuracy is : {}%\".format(acc_ent))"
   ]
  },
  {
   "cell_type": "markdown",
   "metadata": {},
   "source": [
    "### Create a Confusion Matrix"
   ]
  },
  {
   "cell_type": "code",
   "execution_count": 11,
   "metadata": {},
   "outputs": [
    {
     "data": {
      "text/html": [
       "<div>\n",
       "<style scoped>\n",
       "    .dataframe tbody tr th:only-of-type {\n",
       "        vertical-align: middle;\n",
       "    }\n",
       "\n",
       "    .dataframe tbody tr th {\n",
       "        vertical-align: top;\n",
       "    }\n",
       "\n",
       "    .dataframe thead th {\n",
       "        text-align: right;\n",
       "    }\n",
       "</style>\n",
       "<table border=\"1\" class=\"dataframe\">\n",
       "  <thead>\n",
       "    <tr style=\"text-align: right;\">\n",
       "      <th></th>\n",
       "      <th>Predicted Don't Play</th>\n",
       "      <th>Predicted Play</th>\n",
       "    </tr>\n",
       "  </thead>\n",
       "  <tbody>\n",
       "    <tr>\n",
       "      <th>True Don't play</th>\n",
       "      <td>1</td>\n",
       "      <td>0</td>\n",
       "    </tr>\n",
       "    <tr>\n",
       "      <th>True Play</th>\n",
       "      <td>0</td>\n",
       "      <td>1</td>\n",
       "    </tr>\n",
       "  </tbody>\n",
       "</table>\n",
       "</div>"
      ],
      "text/plain": [
       "                 Predicted Don't Play  Predicted Play\n",
       "True Don't play                     1               0\n",
       "True Play                           0               1"
      ]
     },
     "execution_count": 11,
     "metadata": {},
     "output_type": "execute_result"
    }
   ],
   "source": [
    "from sklearn.metrics import confusion_matrix\n",
    "\n",
    "pd.DataFrame(\n",
    "    confusion_matrix(y_test, y_predict_ent),\n",
    "    columns=['Predicted Don\\'t Play', 'Predicted Play'],\n",
    "    index=['True Don\\'t play', 'True Play']\n",
    ")"
   ]
  },
  {
   "cell_type": "code",
   "execution_count": 12,
   "metadata": {},
   "outputs": [
    {
     "data": {
      "text/plain": [
       "array([[1, 0],\n",
       "       [0, 1]], dtype=int64)"
      ]
     },
     "execution_count": 12,
     "metadata": {},
     "output_type": "execute_result"
    }
   ],
   "source": [
    "confusion_matrix(y_test, y_predict_ent)"
   ]
  },
  {
   "cell_type": "markdown",
   "metadata": {},
   "source": [
    "### Test Other Split Criterion"
   ]
  },
  {
   "cell_type": "code",
   "execution_count": 13,
   "metadata": {},
   "outputs": [
    {
     "name": "stdout",
     "output_type": "stream",
     "text": [
      "Accuracy is : 100.0%\n"
     ]
    }
   ],
   "source": [
    "# Use Gini impurity (default) instead of Information Gain (entropy)\n",
    "dec_tree_gini = DecisionTreeClassifier().fit(X_train,y_train)  \n",
    "# Validate the model\n",
    "y_predict_gini = dec_tree_gini.predict(X_test)\n",
    "\n",
    "# Generate the accuracy score\n",
    "acc_gini = accuracy_score(y_test, y_predict_gini) * 100\n",
    "print(\"Accuracy is : {}%\".format(acc_gini))"
   ]
  },
  {
   "cell_type": "markdown",
   "metadata": {},
   "source": [
    "### Visualize the Decision Tree"
   ]
  },
  {
   "cell_type": "code",
   "execution_count": 14,
   "metadata": {},
   "outputs": [
    {
     "data": {
      "text/plain": [
       "'C:\\\\Windows\\\\system32\\\\cmd.exe'"
      ]
     },
     "execution_count": 14,
     "metadata": {},
     "output_type": "execute_result"
    }
   ],
   "source": [
    "import os\n",
    "os.environ['COMSPEC']"
   ]
  },
  {
   "cell_type": "code",
   "execution_count": 15,
   "metadata": {},
   "outputs": [
    {
     "data": {
      "text/plain": [
       "0"
      ]
     },
     "execution_count": 15,
     "metadata": {},
     "output_type": "execute_result"
    }
   ],
   "source": [
    "import subprocess\n",
    "subprocess.call('dir', shell=True)"
   ]
  },
  {
   "cell_type": "code",
   "execution_count": 18,
   "metadata": {},
   "outputs": [
    {
     "ename": "NameError",
     "evalue": "name 'tempFile' is not defined",
     "output_type": "error",
     "traceback": [
      "\u001b[1;31m---------------------------------------------------------------------------\u001b[0m",
      "\u001b[1;31mNameError\u001b[0m                                 Traceback (most recent call last)",
      "\u001b[1;32m<ipython-input-18-d335f54954de>\u001b[0m in \u001b[0;36m<module>\u001b[1;34m\u001b[0m\n\u001b[1;32m----> 1\u001b[1;33m \u001b[0mprocess\u001b[0m \u001b[1;33m=\u001b[0m \u001b[0msubprocess\u001b[0m\u001b[1;33m.\u001b[0m\u001b[0mPopen\u001b[0m\u001b[1;33m(\u001b[0m\u001b[1;34m\"tennis_ent.dot\"\u001b[0m\u001b[1;33m,\u001b[0m \u001b[0mstdout\u001b[0m\u001b[1;33m=\u001b[0m\u001b[0mtempFile\u001b[0m\u001b[1;33m,\u001b[0m \u001b[0mshell\u001b[0m\u001b[1;33m=\u001b[0m\u001b[1;32mTrue\u001b[0m\u001b[1;33m)\u001b[0m\u001b[1;33m\u001b[0m\u001b[1;33m\u001b[0m\u001b[0m\n\u001b[0m",
      "\u001b[1;31mNameError\u001b[0m: name 'tempFile' is not defined"
     ]
    }
   ],
   "source": [
    "process = subprocess.Popen(\"tennis_ent.dot\", stdout=tempFile, shell=True)"
   ]
  },
  {
   "cell_type": "code",
   "execution_count": 23,
   "metadata": {},
   "outputs": [
    {
     "data": {
      "image/svg+xml": [
       "<svg height=\"373pt\" viewBox=\"0.00 0.00 449.00 373.00\" width=\"449pt\" xmlns=\"http://www.w3.org/2000/svg\" xmlns:xlink=\"http://www.w3.org/1999/xlink\">\n",
       "<g class=\"graph\" id=\"graph0\" transform=\"scale(1 1) rotate(0) translate(4 369)\">\n",
       "<title>Tree</title>\n",
       "<polygon fill=\"white\" points=\"-4,4 -4,-369 445,-369 445,4 -4,4\" stroke=\"none\"/>\n",
       "<!-- 0 -->\n",
       "<g class=\"node\" id=\"node1\"><title>0</title>\n",
       "<polygon fill=\"none\" points=\"356.5,-365 215.5,-365 215.5,-297 356.5,-297 356.5,-365\" stroke=\"black\"/>\n",
       "<text font-family=\"Times New Roman,serif\" font-size=\"14.00\" text-anchor=\"middle\" x=\"286\" y=\"-349.8\">outlook_sunny &lt;= 0.5</text>\n",
       "<text font-family=\"Times New Roman,serif\" font-size=\"14.00\" text-anchor=\"middle\" x=\"286\" y=\"-334.8\">entropy = 0.918</text>\n",
       "<text font-family=\"Times New Roman,serif\" font-size=\"14.00\" text-anchor=\"middle\" x=\"286\" y=\"-319.8\">samples = 12</text>\n",
       "<text font-family=\"Times New Roman,serif\" font-size=\"14.00\" text-anchor=\"middle\" x=\"286\" y=\"-304.8\">value = [8, 4]</text>\n",
       "</g>\n",
       "<!-- 1 -->\n",
       "<g class=\"node\" id=\"node2\"><title>1</title>\n",
       "<polygon fill=\"none\" points=\"288.5,-261 151.5,-261 151.5,-193 288.5,-193 288.5,-261\" stroke=\"black\"/>\n",
       "<text font-family=\"Times New Roman,serif\" font-size=\"14.00\" text-anchor=\"middle\" x=\"220\" y=\"-245.8\">humidity_high &lt;= 0.5</text>\n",
       "<text font-family=\"Times New Roman,serif\" font-size=\"14.00\" text-anchor=\"middle\" x=\"220\" y=\"-230.8\">entropy = 0.991</text>\n",
       "<text font-family=\"Times New Roman,serif\" font-size=\"14.00\" text-anchor=\"middle\" x=\"220\" y=\"-215.8\">samples = 9</text>\n",
       "<text font-family=\"Times New Roman,serif\" font-size=\"14.00\" text-anchor=\"middle\" x=\"220\" y=\"-200.8\">value = [5, 4]</text>\n",
       "</g>\n",
       "<!-- 0&#45;&gt;1 -->\n",
       "<g class=\"edge\" id=\"edge1\"><title>0-&gt;1</title>\n",
       "<path d=\"M264.572,-296.884C258.981,-288.243 252.883,-278.819 247.042,-269.793\" fill=\"none\" stroke=\"black\"/>\n",
       "<polygon fill=\"black\" points=\"249.918,-267.794 241.547,-261.299 244.041,-271.596 249.918,-267.794\" stroke=\"black\"/>\n",
       "<text font-family=\"Times New Roman,serif\" font-size=\"14.00\" text-anchor=\"middle\" x=\"236.308\" y=\"-282.044\">True</text>\n",
       "</g>\n",
       "<!-- 8 -->\n",
       "<g class=\"node\" id=\"node9\"><title>8</title>\n",
       "<polygon fill=\"none\" points=\"399,-253.5 307,-253.5 307,-200.5 399,-200.5 399,-253.5\" stroke=\"black\"/>\n",
       "<text font-family=\"Times New Roman,serif\" font-size=\"14.00\" text-anchor=\"middle\" x=\"353\" y=\"-238.3\">entropy = 0.0</text>\n",
       "<text font-family=\"Times New Roman,serif\" font-size=\"14.00\" text-anchor=\"middle\" x=\"353\" y=\"-223.3\">samples = 3</text>\n",
       "<text font-family=\"Times New Roman,serif\" font-size=\"14.00\" text-anchor=\"middle\" x=\"353\" y=\"-208.3\">value = [3, 0]</text>\n",
       "</g>\n",
       "<!-- 0&#45;&gt;8 -->\n",
       "<g class=\"edge\" id=\"edge8\"><title>0-&gt;8</title>\n",
       "<path d=\"M307.753,-296.884C315.049,-285.776 323.197,-273.372 330.546,-262.184\" fill=\"none\" stroke=\"black\"/>\n",
       "<polygon fill=\"black\" points=\"333.672,-263.8 336.237,-253.52 327.821,-259.957 333.672,-263.8\" stroke=\"black\"/>\n",
       "<text font-family=\"Times New Roman,serif\" font-size=\"14.00\" text-anchor=\"middle\" x=\"341.307\" y=\"-274.3\">False</text>\n",
       "</g>\n",
       "<!-- 2 -->\n",
       "<g class=\"node\" id=\"node3\"><title>2</title>\n",
       "<polygon fill=\"none\" points=\"213.5,-157 78.5,-157 78.5,-89 213.5,-89 213.5,-157\" stroke=\"black\"/>\n",
       "<text font-family=\"Times New Roman,serif\" font-size=\"14.00\" text-anchor=\"middle\" x=\"146\" y=\"-141.8\">outlook_rainy &lt;= 0.5</text>\n",
       "<text font-family=\"Times New Roman,serif\" font-size=\"14.00\" text-anchor=\"middle\" x=\"146\" y=\"-126.8\">entropy = 0.811</text>\n",
       "<text font-family=\"Times New Roman,serif\" font-size=\"14.00\" text-anchor=\"middle\" x=\"146\" y=\"-111.8\">samples = 4</text>\n",
       "<text font-family=\"Times New Roman,serif\" font-size=\"14.00\" text-anchor=\"middle\" x=\"146\" y=\"-96.8\">value = [1, 3]</text>\n",
       "</g>\n",
       "<!-- 1&#45;&gt;2 -->\n",
       "<g class=\"edge\" id=\"edge2\"><title>1-&gt;2</title>\n",
       "<path d=\"M195.974,-192.884C189.641,-184.154 182.728,-174.625 176.118,-165.514\" fill=\"none\" stroke=\"black\"/>\n",
       "<polygon fill=\"black\" points=\"178.864,-163.338 170.158,-157.299 173.198,-167.449 178.864,-163.338\" stroke=\"black\"/>\n",
       "</g>\n",
       "<!-- 5 -->\n",
       "<g class=\"node\" id=\"node6\"><title>5</title>\n",
       "<polygon fill=\"none\" points=\"356.5,-157 231.5,-157 231.5,-89 356.5,-89 356.5,-157\" stroke=\"black\"/>\n",
       "<text font-family=\"Times New Roman,serif\" font-size=\"14.00\" text-anchor=\"middle\" x=\"294\" y=\"-141.8\">windy_false &lt;= 0.5</text>\n",
       "<text font-family=\"Times New Roman,serif\" font-size=\"14.00\" text-anchor=\"middle\" x=\"294\" y=\"-126.8\">entropy = 0.722</text>\n",
       "<text font-family=\"Times New Roman,serif\" font-size=\"14.00\" text-anchor=\"middle\" x=\"294\" y=\"-111.8\">samples = 5</text>\n",
       "<text font-family=\"Times New Roman,serif\" font-size=\"14.00\" text-anchor=\"middle\" x=\"294\" y=\"-96.8\">value = [4, 1]</text>\n",
       "</g>\n",
       "<!-- 1&#45;&gt;5 -->\n",
       "<g class=\"edge\" id=\"edge5\"><title>1-&gt;5</title>\n",
       "<path d=\"M244.026,-192.884C250.359,-184.154 257.272,-174.625 263.882,-165.514\" fill=\"none\" stroke=\"black\"/>\n",
       "<polygon fill=\"black\" points=\"266.802,-167.449 269.842,-157.299 261.136,-163.338 266.802,-167.449\" stroke=\"black\"/>\n",
       "</g>\n",
       "<!-- 3 -->\n",
       "<g class=\"node\" id=\"node4\"><title>3</title>\n",
       "<polygon fill=\"none\" points=\"92,-53 0,-53 0,-0 92,-0 92,-53\" stroke=\"black\"/>\n",
       "<text font-family=\"Times New Roman,serif\" font-size=\"14.00\" text-anchor=\"middle\" x=\"46\" y=\"-37.8\">entropy = 0.0</text>\n",
       "<text font-family=\"Times New Roman,serif\" font-size=\"14.00\" text-anchor=\"middle\" x=\"46\" y=\"-22.8\">samples = 2</text>\n",
       "<text font-family=\"Times New Roman,serif\" font-size=\"14.00\" text-anchor=\"middle\" x=\"46\" y=\"-7.8\">value = [0, 2]</text>\n",
       "</g>\n",
       "<!-- 2&#45;&gt;3 -->\n",
       "<g class=\"edge\" id=\"edge3\"><title>2-&gt;3</title>\n",
       "<path d=\"M111.025,-88.9485C101.151,-79.6175 90.415,-69.4722 80.5652,-60.1641\" fill=\"none\" stroke=\"black\"/>\n",
       "<polygon fill=\"black\" points=\"82.9067,-57.5613 73.2346,-53.2367 78.0988,-62.649 82.9067,-57.5613\" stroke=\"black\"/>\n",
       "</g>\n",
       "<!-- 4 -->\n",
       "<g class=\"node\" id=\"node5\"><title>4</title>\n",
       "<polygon fill=\"none\" points=\"202,-53 110,-53 110,-0 202,-0 202,-53\" stroke=\"black\"/>\n",
       "<text font-family=\"Times New Roman,serif\" font-size=\"14.00\" text-anchor=\"middle\" x=\"156\" y=\"-37.8\">entropy = 1.0</text>\n",
       "<text font-family=\"Times New Roman,serif\" font-size=\"14.00\" text-anchor=\"middle\" x=\"156\" y=\"-22.8\">samples = 2</text>\n",
       "<text font-family=\"Times New Roman,serif\" font-size=\"14.00\" text-anchor=\"middle\" x=\"156\" y=\"-7.8\">value = [1, 1]</text>\n",
       "</g>\n",
       "<!-- 2&#45;&gt;4 -->\n",
       "<g class=\"edge\" id=\"edge4\"><title>2-&gt;4</title>\n",
       "<path d=\"M149.498,-88.9485C150.378,-80.6238 151.328,-71.6509 152.222,-63.2027\" fill=\"none\" stroke=\"black\"/>\n",
       "<polygon fill=\"black\" points=\"155.705,-63.5495 153.277,-53.2367 148.744,-62.8128 155.705,-63.5495\" stroke=\"black\"/>\n",
       "</g>\n",
       "<!-- 6 -->\n",
       "<g class=\"node\" id=\"node7\"><title>6</title>\n",
       "<polygon fill=\"none\" points=\"331,-53 239,-53 239,-0 331,-0 331,-53\" stroke=\"black\"/>\n",
       "<text font-family=\"Times New Roman,serif\" font-size=\"14.00\" text-anchor=\"middle\" x=\"285\" y=\"-37.8\">entropy = 1.0</text>\n",
       "<text font-family=\"Times New Roman,serif\" font-size=\"14.00\" text-anchor=\"middle\" x=\"285\" y=\"-22.8\">samples = 2</text>\n",
       "<text font-family=\"Times New Roman,serif\" font-size=\"14.00\" text-anchor=\"middle\" x=\"285\" y=\"-7.8\">value = [1, 1]</text>\n",
       "</g>\n",
       "<!-- 5&#45;&gt;6 -->\n",
       "<g class=\"edge\" id=\"edge6\"><title>5-&gt;6</title>\n",
       "<path d=\"M290.852,-88.9485C290.059,-80.6238 289.205,-71.6509 288.4,-63.2027\" fill=\"none\" stroke=\"black\"/>\n",
       "<polygon fill=\"black\" points=\"291.884,-62.8598 287.451,-53.2367 284.915,-63.5235 291.884,-62.8598\" stroke=\"black\"/>\n",
       "</g>\n",
       "<!-- 7 -->\n",
       "<g class=\"node\" id=\"node8\"><title>7</title>\n",
       "<polygon fill=\"none\" points=\"441,-53 349,-53 349,-0 441,-0 441,-53\" stroke=\"black\"/>\n",
       "<text font-family=\"Times New Roman,serif\" font-size=\"14.00\" text-anchor=\"middle\" x=\"395\" y=\"-37.8\">entropy = 0.0</text>\n",
       "<text font-family=\"Times New Roman,serif\" font-size=\"14.00\" text-anchor=\"middle\" x=\"395\" y=\"-22.8\">samples = 3</text>\n",
       "<text font-family=\"Times New Roman,serif\" font-size=\"14.00\" text-anchor=\"middle\" x=\"395\" y=\"-7.8\">value = [3, 0]</text>\n",
       "</g>\n",
       "<!-- 5&#45;&gt;7 -->\n",
       "<g class=\"edge\" id=\"edge7\"><title>5-&gt;7</title>\n",
       "<path d=\"M329.325,-88.9485C339.298,-79.6175 350.141,-69.4722 360.089,-60.1641\" fill=\"none\" stroke=\"black\"/>\n",
       "<polygon fill=\"black\" points=\"362.582,-62.6247 367.493,-53.2367 357.8,-57.5132 362.582,-62.6247\" stroke=\"black\"/>\n",
       "</g>\n",
       "</g>\n",
       "</svg>"
      ],
      "text/plain": [
       "<IPython.core.display.SVG object>"
      ]
     },
     "execution_count": 23,
     "metadata": {},
     "output_type": "execute_result"
    }
   ],
   "source": [
    "from sklearn import tree\n",
    "\n",
    "# NOTE: Must install the graphviz executables for this to work and possibly update your computer's PATH\n",
    "#       https://graphviz.gitlab.io/_pages/Download/Download_windows.html \n",
    "# When using Anaconda run this at the command prompt: 'conda install -c anaconda graphviz' \n",
    "\n",
    "#create a visualization of the tree -- must install graphviz and pydot2 packages for this to work\n",
    "dotfile1 = open(\"tennis_ent.dot\", 'w')\n",
    "# tree.export_graphviz(dec_tree_ent, out_file = dotfile1, filled=True, rounded=True, feature_names = feature_names)\n",
    "tree.export_graphviz(dec_tree_ent, out_file = None, filled=True, rounded=True, feature_names = feature_names)\n",
    "dotfile1.close()\n",
    "\n",
    "# dotfile2 = open(c, 'w')\n",
    "# tree.export_graphviz(dec_tree_gini, out_file = dotfile2, filled=True, rounded=True, feature_names = feature_names)\n",
    "# dotfile2.close()\n",
    "\n",
    "# # Convert the dot file to a png\n",
    "# from subprocess import check_call\n",
    "# check_call(['dot','-Tpng','tennis_ent.dot','-o','tennis_ent.png'])\n",
    "# # check_call(['dot','-Tpng','tennis_gini.dot','-o','tennis_gini.png'])\n",
    "from graphviz import Source\n",
    "from IPython.display import SVG\n",
    "graph = Source(tree.export_graphviz(dec_tree_ent, out_file=None, feature_names=feature_names))\n",
    "SVG(graph.pipe(format='svg'))"
   ]
  },
  {
   "cell_type": "code",
   "execution_count": null,
   "metadata": {},
   "outputs": [],
   "source": [
    "from IPython.display import Image\n",
    "Image(filename='tennis_ent.png', width=500, height=500)"
   ]
  },
  {
   "cell_type": "code",
   "execution_count": null,
   "metadata": {},
   "outputs": [],
   "source": [
    "from IPython.display import Image\n",
    "Image(filename='tennis_gini.png', width=500, height=500)"
   ]
  },
  {
   "cell_type": "markdown",
   "metadata": {},
   "source": [
    "## What if I didn't have a \"test set\"? \n",
    "What would the tree look like if rather than generating an accuracy score for evaluation purposes, I just let it build the tree and see what happens. \n",
    "\n",
    "What do you think might occur?\n",
    "\n",
    "In this case I'm just loading up the raw data, X and Y."
   ]
  },
  {
   "cell_type": "code",
   "execution_count": null,
   "metadata": {},
   "outputs": [],
   "source": [
    "dec_tree_ent_new = DecisionTreeClassifier(criterion='entropy').fit(X,Y)  \n",
    "dotfile_new = open(\"tennis_ent_new.dot\", 'w')\n",
    "tree.export_graphviz(dec_tree_ent_new, out_file = dotfile_new, filled=True, rounded=True, feature_names = feature_names)\n",
    "dotfile_new.close()\n",
    "os.system(\"dot -Tpng tennis_ent_new.dot -o tennis_ent_new.png\")\n",
    "from IPython.display import Image\n",
    "Image(filename='tennis_ent_new.png', width=750, height=750)"
   ]
  },
  {
   "cell_type": "markdown",
   "metadata": {
    "collapsed": true
   },
   "source": [
    "### Add a new 'noisy' row and test for overfitting\n",
    "\n",
    "Now I'm going to create a new row to testset without retraining the existing models to see how they do. "
   ]
  },
  {
   "cell_type": "code",
   "execution_count": null,
   "metadata": {},
   "outputs": [],
   "source": [
    "print(X_test)\n",
    "print(y_test)\n",
    "numY = len(y_test)\n",
    "print(numY)"
   ]
  },
  {
   "cell_type": "code",
   "execution_count": null,
   "metadata": {},
   "outputs": [],
   "source": [
    "# Add Outlook=Sunny, temp=Hot, humidity=Normal, Windy=Strong, Play=no\n",
    "new_X = np.array([1., 0., 0., 0., 0., 1., 1., 0., 0., 1.])\n",
    "new_y = 1\n",
    "\n",
    "X_test = np.vstack([X_test, new_X])\n",
    "y_test = np.hstack([y_test, new_y])"
   ]
  },
  {
   "cell_type": "code",
   "execution_count": null,
   "metadata": {},
   "outputs": [],
   "source": [
    "#print(X_test)\n",
    "#print(y_test)\n",
    "#numY = len(y_test)\n",
    "#print(numY)"
   ]
  },
  {
   "cell_type": "code",
   "execution_count": null,
   "metadata": {},
   "outputs": [],
   "source": [
    "## Put the noisy test through the two models\n",
    "y_predict_ent2 = dec_tree_ent.predict(X_test)\n",
    "y_predict_gini2 = dec_tree_gini.predict(X_test)\n",
    "\n",
    "# Generate the accuracy score\n",
    "acc_ent2 = accuracy_score(y_test, y_predict_ent2) * 100\n",
    "print(\"Accuracy is : {}%\".format(acc_ent2))\n",
    "\n",
    "# Generate the accuracy score\n",
    "acc_gini2 = accuracy_score(y_test, y_predict_gini2) * 100\n",
    "print(\"Accuracy is : {}%\".format(acc_gini2))"
   ]
  },
  {
   "cell_type": "code",
   "execution_count": null,
   "metadata": {},
   "outputs": [],
   "source": [
    "pd.DataFrame(\n",
    "    confusion_matrix(y_test, y_predict_ent2),\n",
    "    columns=['Predicted Don\\'t Play', 'Predicted Play'],\n",
    "    index=['True Don\\'t play', 'True Play']\n",
    ")"
   ]
  },
  {
   "cell_type": "code",
   "execution_count": null,
   "metadata": {},
   "outputs": [],
   "source": [
    "pd.DataFrame(\n",
    "    confusion_matrix(y_test, y_predict_gini2),\n",
    "    columns=['Predicted Don\\'t Play', 'Predicted Play'],\n",
    "    index=['True Don\\'t play', 'True Play']\n",
    ")"
   ]
  },
  {
   "cell_type": "code",
   "execution_count": null,
   "metadata": {},
   "outputs": [],
   "source": []
  }
 ],
 "metadata": {
  "kernelspec": {
   "display_name": "Python 3",
   "language": "python",
   "name": "python3"
  },
  "language_info": {
   "codemirror_mode": {
    "name": "ipython",
    "version": 3
   },
   "file_extension": ".py",
   "mimetype": "text/x-python",
   "name": "python",
   "nbconvert_exporter": "python",
   "pygments_lexer": "ipython3",
   "version": "3.7.6"
  }
 },
 "nbformat": 4,
 "nbformat_minor": 2
}
